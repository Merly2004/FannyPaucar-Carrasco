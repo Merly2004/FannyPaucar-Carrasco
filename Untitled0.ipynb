{
  "nbformat": 4,
  "nbformat_minor": 0,
  "metadata": {
    "colab": {
      "provenance": [],
      "authorship_tag": "ABX9TyMRN2FOPIpa0mMlt6oPa2Xz",
      "include_colab_link": true
    },
    "kernelspec": {
      "name": "python3",
      "display_name": "Python 3"
    },
    "language_info": {
      "name": "python"
    }
  },
  "cells": [
    {
      "cell_type": "markdown",
      "metadata": {
        "id": "view-in-github",
        "colab_type": "text"
      },
      "source": [
        "<a href=\"https://colab.research.google.com/github/Merly2004/FannyPaucar-Carrasco/blob/main/Untitled0.ipynb\" target=\"_parent\"><img src=\"https://colab.research.google.com/assets/colab-badge.svg\" alt=\"Open In Colab\"/></a>"
      ]
    },
    {
      "cell_type": "code",
      "execution_count": null,
      "metadata": {
        "id": "yK_KAEVOe4pb"
      },
      "outputs": [],
      "source": []
    },
    {
      "cell_type": "markdown",
      "source": [
        "1. Resolver con numpy los siguientes casos"
      ],
      "metadata": {
        "id": "UmU0iA-Ve6Ce"
      }
    },
    {
      "cell_type": "code",
      "source": [
        "# crea un vector de números enteros del 1 al 20.\n",
        "import numpy as np\n",
        "\n",
        "vector_1_20 = np.arange(1, 21)\n",
        "print(\"Vector 1 al 20:\")\n",
        "print(vector_1_20)\n"
      ],
      "metadata": {
        "id": "IywAsHm0fNG-",
        "colab": {
          "base_uri": "https://localhost:8080/"
        },
        "outputId": "50d5cc19-deac-4b25-9b7b-06bc2909c9e6"
      },
      "execution_count": null,
      "outputs": [
        {
          "output_type": "stream",
          "name": "stdout",
          "text": [
            "Vector 1 al 20:\n",
            "[ 1  2  3  4  5  6  7  8  9 10 11 12 13 14 15 16 17 18 19 20]\n"
          ]
        }
      ]
    },
    {
      "cell_type": "markdown",
      "source": [
        ". Crea una matriz de 3x3 con valores aleatorios entre 0 y 1"
      ],
      "metadata": {
        "id": "OISIYeR7isOR"
      }
    },
    {
      "cell_type": "code",
      "source": [
        "import numpy as np\n",
        "matriz_3x3 = np.random.rand(3,3)\n",
        "print(\"\\nMatriz 3x3 con valores aleatorios entre 0 y 1:\")\n",
        "print(matriz_3x3)\n"
      ],
      "metadata": {
        "colab": {
          "base_uri": "https://localhost:8080/"
        },
        "id": "tRGARJimi33w",
        "outputId": "a11c2bb6-6103-4f2e-8857-bbf1f599cf9f"
      },
      "execution_count": 2,
      "outputs": [
        {
          "output_type": "stream",
          "name": "stdout",
          "text": [
            "\n",
            "Matriz 3x3 con valores aleatorios entre 0 y 1:\n",
            "[[0.11926363 0.19109599 0.37048284]\n",
            " [0.8539737  0.75241011 0.59338695]\n",
            " [0.88102465 0.26970498 0.03058974]]\n"
          ]
        }
      ]
    },
    {
      "cell_type": "markdown",
      "source": [
        "Redimensionar una matriz de 4x4 a una matriz de 2x8"
      ],
      "metadata": {
        "id": "GyDTsj1BjGen"
      }
    },
    {
      "cell_type": "code",
      "source": [
        "import numpy as np\n",
        "matriz_4x4 = np.arange(16).reshape(4,4)\n",
        "matriz_2x8 = matriz_4x4.reshape(2,8)\n",
        "print(\"\\nMatriz 4x4:\")\n",
        "print(matriz_4x4)\n",
        "print(\"\\nMatriz redimensionada a 2x8:\")\n",
        "print(matriz_2x8)\n"
      ],
      "metadata": {
        "colab": {
          "base_uri": "https://localhost:8080/"
        },
        "id": "3zKA0z_vjHVw",
        "outputId": "8d21604f-3b66-44e5-c85e-6a68f1e5fb3e"
      },
      "execution_count": 7,
      "outputs": [
        {
          "output_type": "stream",
          "name": "stdout",
          "text": [
            "\n",
            "Matriz 4x4:\n",
            "[[ 0  1  2  3]\n",
            " [ 4  5  6  7]\n",
            " [ 8  9 10 11]\n",
            " [12 13 14 15]]\n",
            "\n",
            "Matriz redimensionada a 2x8:\n",
            "[[ 0  1  2  3  4  5  6  7]\n",
            " [ 8  9 10 11 12 13 14 15]]\n"
          ]
        }
      ]
    },
    {
      "cell_type": "markdown",
      "source": [
        " Array de 10 números equidistantes entre 0 y 1"
      ],
      "metadata": {
        "id": "OR1SyXH2jVyP"
      }
    },
    {
      "cell_type": "code",
      "source": [
        "array_equidistante = np.linspace(0, 1, 10)\n",
        "print(\"\\nArray de 10 números equidistantes entre 0 y 1:\")\n",
        "print(array_equidistante)"
      ],
      "metadata": {
        "colab": {
          "base_uri": "https://localhost:8080/"
        },
        "id": "oOg1d2d5jWwY",
        "outputId": "34c83fb5-8174-49c3-80e7-859040210c0b"
      },
      "execution_count": 4,
      "outputs": [
        {
          "output_type": "stream",
          "name": "stdout",
          "text": [
            "\n",
            "Array de 10 números equidistantes entre 0 y 1:\n",
            "[0.         0.11111111 0.22222222 0.33333333 0.44444444 0.55555556\n",
            " 0.66666667 0.77777778 0.88888889 1.        ]\n"
          ]
        }
      ]
    },
    {
      "cell_type": "markdown",
      "source": [
        "Concatenar dos vectores vertical y horizontalmente"
      ],
      "metadata": {
        "id": "6tj3zYiCjeBo"
      }
    },
    {
      "cell_type": "code",
      "source": [
        "import numpy as np\n",
        "\n",
        "vector_1_20 = np.arange(1, 21)\n",
        "vector_21_40 = np.arange(21, 41)  # otro vector de tamaño 20\n",
        "\n",
        "# Concatenación horizontal (suma longitudes)\n",
        "concat_horizontal = np.concatenate((vector_1_20, vector_21_40))\n",
        "print(\"Concatenación horizontal:\")\n",
        "print(concat_horizontal)\n",
        "\n",
        "# Concatenación vertical (ambos vectores como filas de una matriz 2x20)\n",
        "concat_vertical = np.concatenate((vector_1_20.reshape(1, -1), vector_21_40.reshape(1, -1)), axis=0)\n",
        "print(\"\\nConcatenación vertical:\")\n",
        "print(concat_vertical)\n"
      ],
      "metadata": {
        "colab": {
          "base_uri": "https://localhost:8080/"
        },
        "id": "cZ1Gh0DljgAw",
        "outputId": "f00e8a66-2c7d-4738-edb6-4cc75b658817"
      },
      "execution_count": 6,
      "outputs": [
        {
          "output_type": "stream",
          "name": "stdout",
          "text": [
            "Concatenación horizontal:\n",
            "[ 1  2  3  4  5  6  7  8  9 10 11 12 13 14 15 16 17 18 19 20 21 22 23 24\n",
            " 25 26 27 28 29 30 31 32 33 34 35 36 37 38 39 40]\n",
            "\n",
            "Concatenación vertical:\n",
            "[[ 1  2  3  4  5  6  7  8  9 10 11 12 13 14 15 16 17 18 19 20]\n",
            " [21 22 23 24 25 26 27 28 29 30 31 32 33 34 35 36 37 38 39 40]]\n"
          ]
        }
      ]
    },
    {
      "cell_type": "markdown",
      "source": [
        "2. resolver las siguientes operaciones."
      ],
      "metadata": {
        "id": "DyGlc4Zpj8xQ"
      }
    },
    {
      "cell_type": "code",
      "source": [
        "import pandas as pd\n",
        "import numpy as np\n",
        "df = pd.read_excel('/content/universidad.xlsx')\n",
        "valores = df['Id Persona'].values"
      ],
      "metadata": {
        "id": "r9t3_A5OlKNX"
      },
      "execution_count": null,
      "outputs": []
    },
    {
      "cell_type": "markdown",
      "source": [
        "calcula la suma, resta, multiplicación y división de dos vectores"
      ],
      "metadata": {
        "id": "A9wc64rOmG7R"
      }
    },
    {
      "cell_type": "code",
      "source": [
        "import pandas as pd\n",
        "import numpy as np\n",
        "df = pd.read_excel('/content/universidad.xlsx')\n",
        "valores = df['Id Persona'].values\n",
        "valores = df['Id Persona'].values\n",
        "vec1 = valores[:5]\n",
        "vec2 = valores[5:10]\n",
        "\n",
        "suma = vec1 + vec2\n",
        "resta = vec1 - vec2\n",
        "multiplicacion = vec1 * vec2\n",
        "division = vec1 / vec2\n",
        "\n",
        "print(\"Suma:\", suma)\n",
        "print(\"Resta:\", resta)\n",
        "print(\"Multiplicación:\", multiplicacion)\n",
        "print(\"División:\", division)"
      ],
      "metadata": {
        "colab": {
          "base_uri": "https://localhost:8080/"
        },
        "id": "Iq2TFATgmHzY",
        "outputId": "762be4b1-4cee-42dc-ec77-9cbb0f2a21b5"
      },
      "execution_count": 11,
      "outputs": [
        {
          "output_type": "stream",
          "name": "stdout",
          "text": [
            "Suma: [ 7  9 11 13 15]\n",
            "Resta: [-5 -5 -5 -5 -5]\n",
            "Multiplicación: [ 6 14 24 36 50]\n",
            "División: [0.16666667 0.28571429 0.375      0.44444444 0.5       ]\n"
          ]
        }
      ]
    },
    {
      "cell_type": "markdown",
      "source": [
        "Media, mediana y desviación estándar de un vector\n"
      ],
      "metadata": {
        "id": "wJ90-BEanjXP"
      }
    },
    {
      "cell_type": "code",
      "source": [
        "media = np.mean(vec1)\n",
        "mediana = np.median(vec1)\n",
        "desviacion = np.std(vec1)\n",
        "\n",
        "print(f\"\\nMedia: {media}\")\n",
        "print(f\"Mediana: {mediana}\")\n",
        "print(f\"Desviación estándar: {desviacion}\")"
      ],
      "metadata": {
        "colab": {
          "base_uri": "https://localhost:8080/"
        },
        "id": "vExIzOFOnoTI",
        "outputId": "b3d44c07-d643-4c3f-c3d8-70b6cbf28e88"
      },
      "execution_count": 12,
      "outputs": [
        {
          "output_type": "stream",
          "name": "stdout",
          "text": [
            "\n",
            "Media: 3.0\n",
            "Mediana: 3.0\n",
            "Desviación estándar: 1.4142135623730951\n"
          ]
        }
      ]
    },
    {
      "cell_type": "markdown",
      "source": [
        "Normalizar vector dividiendo cada elemento por el máximo"
      ],
      "metadata": {
        "id": "MJrF8kR-nunn"
      }
    },
    {
      "cell_type": "code",
      "source": [
        "normalizado = vec1 / np.max(vec1)\n",
        "print(\"\\nVector normalizado:\", normalizado)"
      ],
      "metadata": {
        "colab": {
          "base_uri": "https://localhost:8080/"
        },
        "id": "CM1g4WYPnvcA",
        "outputId": "e7ecd21e-112b-4629-8f2e-c1911ef8c955"
      },
      "execution_count": 13,
      "outputs": [
        {
          "output_type": "stream",
          "name": "stdout",
          "text": [
            "\n",
            "Vector normalizado: [0.2 0.4 0.6 0.8 1. ]\n"
          ]
        }
      ]
    },
    {
      "cell_type": "markdown",
      "source": [
        "Índices del valor máximo y mínimo"
      ],
      "metadata": {
        "id": "5-sBCXq_nz2J"
      }
    },
    {
      "cell_type": "code",
      "source": [
        "indice_max = np.argmax(vec1)\n",
        "indice_min = np.argmin(vec1)\n",
        "\n",
        "print(f\"\\nÍndice del valor máximo: {indice_max}\")\n",
        "print(f\"Índice del valor mínimo: {indice_min}\")"
      ],
      "metadata": {
        "colab": {
          "base_uri": "https://localhost:8080/"
        },
        "id": "hgKxVfmxn0xo",
        "outputId": "a082e5c4-8b18-476e-d349-950dacb05cc7"
      },
      "execution_count": 14,
      "outputs": [
        {
          "output_type": "stream",
          "name": "stdout",
          "text": [
            "\n",
            "Índice del valor máximo: 4\n",
            "Índice del valor mínimo: 0\n"
          ]
        }
      ]
    },
    {
      "cell_type": "markdown",
      "source": [
        "Multiplicación matricial entre dos matrices 3x3"
      ],
      "metadata": {
        "id": "TX4bnjWHn3vw"
      }
    },
    {
      "cell_type": "code",
      "source": [
        "matriz1 = valores[:9].reshape(3,3)\n",
        "matriz2 = valores[9:18].reshape(3,3)\n",
        "\n",
        "print(\"\\nMatriz 1:\\n\", matriz1)\n",
        "print(\"\\nMatriz 2:\\n\", matriz2)\n",
        "\n",
        "multiplicacion_matrices = np.dot(matriz1, matriz2)\n",
        "print(\"\\nMultiplicación matricial:\\n\", multiplicacion_matrices)"
      ],
      "metadata": {
        "colab": {
          "base_uri": "https://localhost:8080/"
        },
        "id": "qQRlvoV-nzX_",
        "outputId": "8f8b84ac-d69a-4ae8-c8d9-1e31ca9a9237"
      },
      "execution_count": 15,
      "outputs": [
        {
          "output_type": "stream",
          "name": "stdout",
          "text": [
            "\n",
            "Matriz 1:\n",
            " [[1 2 3]\n",
            " [4 5 6]\n",
            " [7 8 9]]\n",
            "\n",
            "Matriz 2:\n",
            " [[10 11 12]\n",
            " [13 14 15]\n",
            " [16 17 18]]\n",
            "\n",
            "Multiplicación matricial:\n",
            " [[ 84  90  96]\n",
            " [201 216 231]\n",
            " [318 342 366]]\n"
          ]
        }
      ]
    },
    {
      "cell_type": "markdown",
      "source": [
        "3. Resolver con numpy los siguientes casos:\n"
      ],
      "metadata": {
        "id": "H8Nj5uRKogbA"
      }
    },
    {
      "cell_type": "markdown",
      "source": [
        "selecciona los elementos pares de un vector de números enteros"
      ],
      "metadata": {
        "id": "Kl-B7mQjokRA"
      }
    },
    {
      "cell_type": "code",
      "source": [
        "import pandas as pd\n",
        "import numpy as np\n",
        "df = pd.read_excel('/content/universidad.xlsx')\n",
        "vector = df['Id Persona'].values\n",
        "# 1. Seleccionar elementos pares\n",
        "pares = vector[vector % 2 == 0]\n",
        "print(\"Elementos pares:\", pares)"
      ],
      "metadata": {
        "colab": {
          "base_uri": "https://localhost:8080/"
        },
        "id": "6I-shdU-omKX",
        "outputId": "deea20cf-b9fb-42c2-a81f-d06041dfc03c"
      },
      "execution_count": 16,
      "outputs": [
        {
          "output_type": "stream",
          "name": "stdout",
          "text": [
            "Elementos pares: [  2   4   6   8  10  12  14  16  18  20  22  24  26  28  30  32  34  36\n",
            "  38  40  42  44  46  48  50  52  54  56  58  60  62  64  66  68  70  72\n",
            "  74  76  78  80  82  84  86  88  90  92  94  96  98 100]\n"
          ]
        }
      ]
    },
    {
      "cell_type": "code",
      "source": [
        "import pandas as pd\n",
        "import numpy as np\n",
        "df = pd.read_excel('/content/universidad.xlsx')\n",
        "vector = df['Id Persona'].values\n",
        "# 2. Filtrar valores mayores que 5\n",
        "mayores_5 = vector[vector > 5]\n",
        "print(\"Valores mayores que 5:\", mayores_5)"
      ],
      "metadata": {
        "colab": {
          "base_uri": "https://localhost:8080/"
        },
        "id": "wviJC9f-ohrY",
        "outputId": "3b751951-6303-45ea-90c1-73faf35b1a57"
      },
      "execution_count": 17,
      "outputs": [
        {
          "output_type": "stream",
          "name": "stdout",
          "text": [
            "Valores mayores que 5: [  6   7   8   9  10  11  12  13  14  15  16  17  18  19  20  21  22  23\n",
            "  24  25  26  27  28  29  30  31  32  33  34  35  36  37  38  39  40  41\n",
            "  42  43  44  45  46  47  48  49  50  51  52  53  54  55  56  57  58  59\n",
            "  60  61  62  63  64  65  66  67  68  69  70  71  72  73  74  75  76  77\n",
            "  78  79  80  81  82  83  84  85  86  87  88  89  90  91  92  93  94  95\n",
            "  96  97  98  99 100]\n"
          ]
        }
      ]
    },
    {
      "cell_type": "code",
      "source": [
        "import pandas as pd\n",
        "import numpy as np\n",
        "df = pd.read_excel('/content/universidad.xlsx')\n",
        "vector = df['Id Persona'].values\n",
        "# 3. Filtrar valores iguales a cero\n",
        "iguales_0 = vector[vector == 0]\n",
        "print(\"Valores iguales a 0:\", iguales_0)"
      ],
      "metadata": {
        "colab": {
          "base_uri": "https://localhost:8080/"
        },
        "id": "hAn0n-_CpQrg",
        "outputId": "cf00d361-37e6-48fd-ee1e-c6368b08603e"
      },
      "execution_count": 18,
      "outputs": [
        {
          "output_type": "stream",
          "name": "stdout",
          "text": [
            "Valores iguales a 0: []\n"
          ]
        }
      ]
    },
    {
      "cell_type": "code",
      "source": [
        "import pandas as pd\n",
        "import numpy as np\n",
        "df = pd.read_excel('/content/universidad.xlsx')\n",
        "vector = df['Id Persona'].values\n",
        "# 4. Filtrar valores negativos\n",
        "negativos = vector[vector < 0]\n",
        "print(\"Valores negativos:\", negativos)"
      ],
      "metadata": {
        "colab": {
          "base_uri": "https://localhost:8080/"
        },
        "id": "_J8MKl6NpTLf",
        "outputId": "c55b7825-11bc-469c-84a2-83a8047ea2b1"
      },
      "execution_count": 19,
      "outputs": [
        {
          "output_type": "stream",
          "name": "stdout",
          "text": [
            "Valores negativos: []\n"
          ]
        }
      ]
    },
    {
      "cell_type": "code",
      "source": [
        "import pandas as pd\n",
        "import numpy as np\n",
        "df = pd.read_excel('/content/universidad.xlsx')\n",
        "vector = df['Id Persona'].values\n",
        "# 5. Media de valores mayores de 50\n",
        "mayores_50 = vector[vector > 50]\n",
        "media_mayores_50 = np.mean(mayores_50) if mayores_50.size > 0 else float('nan')\n",
        "print(\"Media de valores mayores de 50:\", media_mayores_50)"
      ],
      "metadata": {
        "colab": {
          "base_uri": "https://localhost:8080/"
        },
        "id": "oa2eSS-epVCp",
        "outputId": "6376a977-b129-404c-9859-921ce339f5f4"
      },
      "execution_count": 20,
      "outputs": [
        {
          "output_type": "stream",
          "name": "stdout",
          "text": [
            "Media de valores mayores de 50: 75.5\n"
          ]
        }
      ]
    },
    {
      "cell_type": "markdown",
      "source": [
        "4. Resolver con numpy los siguientes casos:"
      ],
      "metadata": {
        "id": "uBGLjbg6qjho"
      }
    },
    {
      "cell_type": "code",
      "source": [
        "import numpy as np\n",
        "# 1. Crear un vector de 10 elementos y reemplazar valores > 5 por 0\n",
        "vector = np.array([2, 6, 3, 7, 1, 8, 5, 9, 4, 10])\n",
        "vector_reemplazado = np.where(vector > 5, 0, vector)\n",
        "print(\"Vector con valores > 5 reemplazados por 0:\", vector_reemplazado)"
      ],
      "metadata": {
        "colab": {
          "base_uri": "https://localhost:8080/"
        },
        "id": "zjhDQK28qmcA",
        "outputId": "6fab34bd-faf0-437f-9b23-0074199044c7"
      },
      "execution_count": 21,
      "outputs": [
        {
          "output_type": "stream",
          "name": "stdout",
          "text": [
            "Vector con valores > 5 reemplazados por 0: [2 0 3 0 1 0 5 0 4 0]\n"
          ]
        }
      ]
    },
    {
      "cell_type": "code",
      "source": [
        "import numpy as np\n",
        "# 2. Combinar dos vectores booleanos con AND (&) y OR (|)\n",
        "bool_vec1 = np.array([True, False, True, False, True])\n",
        "bool_vec2 = np.array([False, False, True, True, False])\n",
        "\n",
        "and_result = bool_vec1 & bool_vec2\n",
        "or_result = bool_vec1 | bool_vec2\n",
        "\n",
        "print(\"\\nAND entre vectores booleanos:\", and_result)\n",
        "print(\"OR entre vectores booleanos:\", or_result)"
      ],
      "metadata": {
        "colab": {
          "base_uri": "https://localhost:8080/"
        },
        "id": "4pmgOTKoq4Go",
        "outputId": "e9e45aa8-2969-4035-ee17-df5b4c2e53df"
      },
      "execution_count": 22,
      "outputs": [
        {
          "output_type": "stream",
          "name": "stdout",
          "text": [
            "\n",
            "AND entre vectores booleanos: [False False  True False False]\n",
            "OR entre vectores booleanos: [ True False  True  True  True]\n"
          ]
        }
      ]
    },
    {
      "cell_type": "code",
      "source": [
        "import numpy as np\n",
        "# 3. Contar cantidad de valores múltiplos de 3 en un vector\n",
        "vec_multiplos = np.array([3, 4, 6, 7, 9, 10, 12, 14])\n",
        "cantidad_multiplos = np.sum(vec_multiplos % 3 == 0)\n",
        "print(\"\\nCantidad de múltiplos de 3:\", cantidad_multiplos)"
      ],
      "metadata": {
        "colab": {
          "base_uri": "https://localhost:8080/"
        },
        "id": "67hppGLHq79Z",
        "outputId": "2fc589d6-492e-4f20-fcba-c4c9803721db"
      },
      "execution_count": 23,
      "outputs": [
        {
          "output_type": "stream",
          "name": "stdout",
          "text": [
            "\n",
            "Cantidad de múltiplos de 3: 4\n"
          ]
        }
      ]
    },
    {
      "cell_type": "code",
      "source": [
        "import numpy as np\n",
        "# 4. Encontrar índices de elementos no nulos en un vector\n",
        "vec_con_ceros = np.array([0, 1, 2, 0, 3, 0, 4])\n",
        "indices_no_nulos = np.nonzero(vec_con_ceros)[0]\n",
        "print(\"\\nÍndices de elementos no nulos:\", indices_no_nulos)"
      ],
      "metadata": {
        "colab": {
          "base_uri": "https://localhost:8080/"
        },
        "id": "QrygsZ9mq91A",
        "outputId": "140e92dd-34bc-41ad-d8d7-66e42619f937"
      },
      "execution_count": 24,
      "outputs": [
        {
          "output_type": "stream",
          "name": "stdout",
          "text": [
            "\n",
            "Índices de elementos no nulos: [1 2 4 6]\n"
          ]
        }
      ]
    },
    {
      "cell_type": "code",
      "source": [
        "import numpy as np\n",
        "# 5. Comprobar si todos los elementos son mayores que un valor especificado por el usuario\n",
        "valor = int(input(\"\\nIngresa un valor para comparar: \"))\n",
        "vec_check = np.array([10, 15, 20, 25, 30])\n",
        "todos_mayores = np.all(vec_check > valor)\n",
        "print(f\"\\n¿Todos los elementos son mayores que {valor}? {todos_mayores}\")"
      ],
      "metadata": {
        "colab": {
          "base_uri": "https://localhost:8080/"
        },
        "id": "KUZ5PTWnq-MP",
        "outputId": "d99b1fbc-026a-4bf4-90e6-90fe217e5a67"
      },
      "execution_count": 30,
      "outputs": [
        {
          "output_type": "stream",
          "name": "stdout",
          "text": [
            "\n",
            "Ingresa un valor para comparar: 30\n",
            "\n",
            "¿Todos los elementos son mayores que 30? False\n"
          ]
        }
      ]
    },
    {
      "cell_type": "markdown",
      "source": [
        "5. resolver con numpy los siguientes casos:"
      ],
      "metadata": {
        "id": "gNd7Fuf2tDho"
      }
    },
    {
      "cell_type": "code",
      "source": [
        "import numpy as np\n",
        "\n",
        "vector = np.array([1, 2, 3, 4, 5])\n",
        "matriz = np.array([[1, 5, 2, 3],\n",
        "                   [4, 2, 8, 1],\n",
        "                   [7, 6, 9, 0]])\n",
        "\n",
        "# 1. Calcula el cuadrado de cada elemento en un vector\n",
        "cuadrado = vector ** 2\n",
        "print(\"Cuadrado de cada elemento:\", cuadrado)\n",
        "\n",
        "# 2. Elevar todos los elementos del vector a una misma potencia usando función exponencial\n",
        "exponente = 3\n",
        "potencia = np.power(vector, exponente)\n",
        "print(f\"Vector elevado a la potencia {exponente}:\", potencia)\n",
        "\n",
        "# 3. Encontrar valores máximos y mínimos en cada fila de una matriz\n",
        "maximos_filas = np.max(matriz, axis=1)\n",
        "minimos_filas = np.min(matriz, axis=1)\n",
        "print(\"Máximos por fila:\", maximos_filas)\n",
        "print(\"Mínimos por fila:\", minimos_filas)\n",
        "\n",
        "# 4. Aplicar la función sin a todos los elementos de un vector y almacenar resultados\n",
        "sin_vector = np.sin(vector)\n",
        "print(\"Seno de cada elemento del vector:\", sin_vector)\n",
        "\n",
        "# 5. Transpuesta de una matriz 3x4 (si ya la tienes, aquí un ejemplo)\n",
        "transpuesta = matriz.T\n",
        "print(\"Transpuesta de la matriz:\\n\", transpuesta)\n"
      ],
      "metadata": {
        "colab": {
          "base_uri": "https://localhost:8080/"
        },
        "id": "XKhliI-8tFcQ",
        "outputId": "74a9df85-5d66-4146-a646-04ac118b669b"
      },
      "execution_count": 31,
      "outputs": [
        {
          "output_type": "stream",
          "name": "stdout",
          "text": [
            "Cuadrado de cada elemento: [ 1  4  9 16 25]\n",
            "Vector elevado a la potencia 3: [  1   8  27  64 125]\n",
            "Máximos por fila: [5 8 9]\n",
            "Mínimos por fila: [1 1 0]\n",
            "Seno de cada elemento del vector: [ 0.84147098  0.90929743  0.14112001 -0.7568025  -0.95892427]\n",
            "Transpuesta de la matriz:\n",
            " [[1 4 7]\n",
            " [5 2 6]\n",
            " [2 8 9]\n",
            " [3 1 0]]\n"
          ]
        }
      ]
    },
    {
      "cell_type": "markdown",
      "source": [
        "6. crea un dataframe con las siguientes columnas:'nombre', 'edad', ' ciudad'.\n",
        "añade al menos 10 registros"
      ],
      "metadata": {
        "id": "wuuRlknBtcRP"
      }
    },
    {
      "cell_type": "code",
      "source": [
        "import pandas as pd\n",
        "\n",
        "# 1. Crear el DataFrame con 10 registros\n",
        "data = {\n",
        "    'nombre': ['Ana', 'Luis', 'Carlos', 'María', 'Sofía', 'Pedro', 'Lucía', 'Jorge', 'Elena', 'Tomás'],\n",
        "    'edad': [22, 30, 27, 19, 24, 35, 28, 21, 26, 40],\n",
        "    'ciudad': ['Lima', 'Quito', 'Lima', 'Bogotá', 'Quito', 'Lima', 'Bogotá', 'Quito', 'Lima', 'Bogotá']\n",
        "}\n",
        "\n",
        "df = pd.DataFrame(data)\n",
        "print(\"DataFrame original:\\n\", df)\n",
        "\n",
        "# 2. Filtrar personas con edad mayor a 25\n",
        "mayores_25 = df[df['edad'] > 25]\n",
        "print(\"\\nPersonas con edad mayor a 25:\\n\", mayores_25)\n",
        "\n",
        "# 3. Añadir una columna 'ingresos' con valores ficticios\n",
        "df['ingresos'] = [1500, 2000, 1800, 1200, 1600, 2500, 1900, 1400, 1700, 2200]\n",
        "print(\"\\nDataFrame con ingresos añadidos:\\n\", df)\n",
        "\n",
        "# 4. Calcular el promedio de la edad\n",
        "prom_edad = df['edad'].mean()\n",
        "print(\"\\nPromedio de edad:\", prom_edad)\n",
        "\n",
        "# 5. Contar cuántas veces aparece cada ciudad y promedio de edad por ciudad\n",
        "conteo_ciudad = df['ciudad'].value_counts()\n",
        "prom_edad_ciudad = df.groupby('ciudad')['edad'].mean()\n",
        "\n",
        "print(\"\\nConteo de ciudades:\\n\", conteo_ciudad)\n",
        "print(\"\\nPromedio de edad por ciudad:\\n\", prom_edad_ciudad)\n",
        "\n",
        "# 6. Ordenar por edad ascendente y descendente\n",
        "orden_asc = df.sort_values(by='edad')\n",
        "orden_desc = df.sort_values(by='edad', ascending=False)\n",
        "\n",
        "print(\"\\nOrdenado por edad ascendente:\\n\", orden_asc)\n",
        "print(\"\\nOrdenado por edad descendente:\\n\", orden_desc)\n"
      ],
      "metadata": {
        "colab": {
          "base_uri": "https://localhost:8080/"
        },
        "id": "FXa3fWahteRI",
        "outputId": "8c4ac3c8-52d6-48ca-8e43-7ec54a4c33d1"
      },
      "execution_count": 32,
      "outputs": [
        {
          "output_type": "stream",
          "name": "stdout",
          "text": [
            "DataFrame original:\n",
            "    nombre  edad  ciudad\n",
            "0     Ana    22    Lima\n",
            "1    Luis    30   Quito\n",
            "2  Carlos    27    Lima\n",
            "3   María    19  Bogotá\n",
            "4   Sofía    24   Quito\n",
            "5   Pedro    35    Lima\n",
            "6   Lucía    28  Bogotá\n",
            "7   Jorge    21   Quito\n",
            "8   Elena    26    Lima\n",
            "9   Tomás    40  Bogotá\n",
            "\n",
            "Personas con edad mayor a 25:\n",
            "    nombre  edad  ciudad\n",
            "1    Luis    30   Quito\n",
            "2  Carlos    27    Lima\n",
            "5   Pedro    35    Lima\n",
            "6   Lucía    28  Bogotá\n",
            "8   Elena    26    Lima\n",
            "9   Tomás    40  Bogotá\n",
            "\n",
            "DataFrame con ingresos añadidos:\n",
            "    nombre  edad  ciudad  ingresos\n",
            "0     Ana    22    Lima      1500\n",
            "1    Luis    30   Quito      2000\n",
            "2  Carlos    27    Lima      1800\n",
            "3   María    19  Bogotá      1200\n",
            "4   Sofía    24   Quito      1600\n",
            "5   Pedro    35    Lima      2500\n",
            "6   Lucía    28  Bogotá      1900\n",
            "7   Jorge    21   Quito      1400\n",
            "8   Elena    26    Lima      1700\n",
            "9   Tomás    40  Bogotá      2200\n",
            "\n",
            "Promedio de edad: 27.2\n",
            "\n",
            "Conteo de ciudades:\n",
            " ciudad\n",
            "Lima      4\n",
            "Quito     3\n",
            "Bogotá    3\n",
            "Name: count, dtype: int64\n",
            "\n",
            "Promedio de edad por ciudad:\n",
            " ciudad\n",
            "Bogotá    29.0\n",
            "Lima      27.5\n",
            "Quito     25.0\n",
            "Name: edad, dtype: float64\n",
            "\n",
            "Ordenado por edad ascendente:\n",
            "    nombre  edad  ciudad  ingresos\n",
            "3   María    19  Bogotá      1200\n",
            "7   Jorge    21   Quito      1400\n",
            "0     Ana    22    Lima      1500\n",
            "4   Sofía    24   Quito      1600\n",
            "8   Elena    26    Lima      1700\n",
            "2  Carlos    27    Lima      1800\n",
            "6   Lucía    28  Bogotá      1900\n",
            "1    Luis    30   Quito      2000\n",
            "5   Pedro    35    Lima      2500\n",
            "9   Tomás    40  Bogotá      2200\n",
            "\n",
            "Ordenado por edad descendente:\n",
            "    nombre  edad  ciudad  ingresos\n",
            "9   Tomás    40  Bogotá      2200\n",
            "5   Pedro    35    Lima      2500\n",
            "1    Luis    30   Quito      2000\n",
            "6   Lucía    28  Bogotá      1900\n",
            "2  Carlos    27    Lima      1800\n",
            "8   Elena    26    Lima      1700\n",
            "4   Sofía    24   Quito      1600\n",
            "0     Ana    22    Lima      1500\n",
            "7   Jorge    21   Quito      1400\n",
            "3   María    19  Bogotá      1200\n"
          ]
        }
      ]
    },
    {
      "cell_type": "markdown",
      "source": [
        "7. Del archivo adjuntado realizar los siguientes filtros\n"
      ],
      "metadata": {
        "id": "70FKwS5iti7o"
      }
    },
    {
      "cell_type": "code",
      "source": [
        "import pandas as pd\n",
        "\n",
        "# Cargar el archivo Excel\n",
        "df = pd.read_excel('/content/universidad.xlsx')\n",
        "\n",
        "# Normalizar texto para evitar errores por mayúsculas o espacios\n",
        "df['Carrera'] = df['Carrera'].str.strip().str.lower()\n",
        "df['Inscripción'] = pd.to_datetime(df['Inscripción'], errors='coerce')\n",
        "\n",
        "# 1. ¿Cuántos son de la carrera de Ing. en Sistemas?\n",
        "sistemas = df[df['Carrera'] == 'ing. en sistemas']\n",
        "print(\"Cantidad de estudiantes de Ing. en Sistemas:\", len(sistemas))\n",
        "\n",
        "# 2. ¿Cuántos son de la carrera de Lic. en Derecho?\n",
        "derecho = df[df['Carrera'] == 'lic. en derecho']\n",
        "print(\"Cantidad de estudiantes de Lic. en Derecho:\", len(derecho))\n",
        "\n",
        "# 3. ¿Cuántos se inscribieron en el año 2015?\n",
        "inscritos_2015 = df[df['Inscripción'].dt.year == 2015]\n",
        "print(\"Cantidad de inscritos en 2015:\", len(inscritos_2015))\n",
        "\n",
        "# 4. ¿Cuántos están en 1° y 2° semestre?\n",
        "semestres_1_2 = df[df['Semestre'].isin([1, 2])]\n",
        "print(\"Cantidad de estudiantes en 1° y 2° semestre:\", len(semestres_1_2))\n"
      ],
      "metadata": {
        "colab": {
          "base_uri": "https://localhost:8080/"
        },
        "id": "9Gg8TYDItoa_",
        "outputId": "8c3493c1-8e87-47a7-9476-f4e13376387d"
      },
      "execution_count": 33,
      "outputs": [
        {
          "output_type": "stream",
          "name": "stdout",
          "text": [
            "Cantidad de estudiantes de Ing. en Sistemas: 13\n",
            "Cantidad de estudiantes de Lic. en Derecho: 17\n",
            "Cantidad de inscritos en 2015: 23\n",
            "Cantidad de estudiantes en 1° y 2° semestre: 22\n"
          ]
        }
      ]
    },
    {
      "cell_type": "code",
      "source": [],
      "metadata": {
        "id": "wwn9n_ePtyMB"
      },
      "execution_count": null,
      "outputs": []
    }
  ]
}